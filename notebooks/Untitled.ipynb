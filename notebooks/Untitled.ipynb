{
 "cells": [
  {
   "cell_type": "markdown",
   "id": "f05778f8-2860-4c3e-b5af-9cb603ec7435",
   "metadata": {},
   "source": [
    "Import packages "
   ]
  },
  {
   "cell_type": "code",
   "execution_count": 37,
   "id": "9a1b42d7-6ca3-47ac-ad71-2c90fb2bfb7f",
   "metadata": {},
   "outputs": [],
   "source": [
    "#from shapely.geometry import Point\n",
    "import pandas as pd\n",
    "import geopandas as gpd\n",
    "import matplotlib.pyplot as plt\n",
    "import folium\n",
    "from folium.plugins import MarkerCluster\n",
    "from folium.plugins import FastMarkerCluster"
   ]
  },
  {
   "cell_type": "markdown",
   "id": "af10998d-81e6-4b81-9db8-ebdee91b8266",
   "metadata": {},
   "source": [
    "---\n",
    "\n",
    "Import zipcodes"
   ]
  },
  {
   "cell_type": "code",
   "execution_count": 38,
   "id": "6799aee4-ad97-424e-967b-ca7e09268a79",
   "metadata": {},
   "outputs": [
    {
     "name": "stdout",
     "output_type": "stream",
     "text": [
      "EPSG:4326\n"
     ]
    },
    {
     "data": {
      "text/html": [
       "<div>\n",
       "<style scoped>\n",
       "    .dataframe tbody tr th:only-of-type {\n",
       "        vertical-align: middle;\n",
       "    }\n",
       "\n",
       "    .dataframe tbody tr th {\n",
       "        vertical-align: top;\n",
       "    }\n",
       "\n",
       "    .dataframe thead th {\n",
       "        text-align: right;\n",
       "    }\n",
       "</style>\n",
       "<table border=\"1\" class=\"dataframe\">\n",
       "  <thead>\n",
       "    <tr style=\"text-align: right;\">\n",
       "      <th></th>\n",
       "      <th>zip</th>\n",
       "      <th>objectid</th>\n",
       "      <th>po_name</th>\n",
       "      <th>shape_stlength</th>\n",
       "      <th>shape_starea</th>\n",
       "      <th>geometry</th>\n",
       "    </tr>\n",
       "  </thead>\n",
       "  <tbody>\n",
       "    <tr>\n",
       "      <th>0</th>\n",
       "      <td>37115</td>\n",
       "      <td>1</td>\n",
       "      <td>MADISON</td>\n",
       "      <td>178783.02488886821</td>\n",
       "      <td>596553400.57885742</td>\n",
       "      <td>MULTIPOLYGON (((-86.68725 36.31821, -86.68722 ...</td>\n",
       "    </tr>\n",
       "    <tr>\n",
       "      <th>1</th>\n",
       "      <td>37216</td>\n",
       "      <td>3</td>\n",
       "      <td>NASHVILLE</td>\n",
       "      <td>75820.997821400058</td>\n",
       "      <td>188884682.28344727</td>\n",
       "      <td>MULTIPOLYGON (((-86.73451 36.23774, -86.73425 ...</td>\n",
       "    </tr>\n",
       "    <tr>\n",
       "      <th>2</th>\n",
       "      <td>37204</td>\n",
       "      <td>9</td>\n",
       "      <td>NASHVILLE</td>\n",
       "      <td>93180.292250425613</td>\n",
       "      <td>200664795.51708984</td>\n",
       "      <td>MULTIPOLYGON (((-86.77914 36.13424, -86.77923 ...</td>\n",
       "    </tr>\n",
       "    <tr>\n",
       "      <th>3</th>\n",
       "      <td>37027</td>\n",
       "      <td>11</td>\n",
       "      <td>BRENTWOOD</td>\n",
       "      <td>159760.6942933173</td>\n",
       "      <td>174978422.04101562</td>\n",
       "      <td>MULTIPOLYGON (((-86.81258 36.06319, -86.81263 ...</td>\n",
       "    </tr>\n",
       "    <tr>\n",
       "      <th>4</th>\n",
       "      <td>37064</td>\n",
       "      <td>18</td>\n",
       "      <td>FRANKLIN</td>\n",
       "      <td>28995.828320601937</td>\n",
       "      <td>46969608.005737305</td>\n",
       "      <td>MULTIPOLYGON (((-87.02197 36.01200, -87.02140 ...</td>\n",
       "    </tr>\n",
       "  </tbody>\n",
       "</table>\n",
       "</div>"
      ],
      "text/plain": [
       "     zip objectid    po_name      shape_stlength        shape_starea  \\\n",
       "0  37115        1    MADISON  178783.02488886821  596553400.57885742   \n",
       "1  37216        3  NASHVILLE  75820.997821400058  188884682.28344727   \n",
       "2  37204        9  NASHVILLE  93180.292250425613  200664795.51708984   \n",
       "3  37027       11  BRENTWOOD   159760.6942933173  174978422.04101562   \n",
       "4  37064       18   FRANKLIN  28995.828320601937  46969608.005737305   \n",
       "\n",
       "                                            geometry  \n",
       "0  MULTIPOLYGON (((-86.68725 36.31821, -86.68722 ...  \n",
       "1  MULTIPOLYGON (((-86.73451 36.23774, -86.73425 ...  \n",
       "2  MULTIPOLYGON (((-86.77914 36.13424, -86.77923 ...  \n",
       "3  MULTIPOLYGON (((-86.81258 36.06319, -86.81263 ...  \n",
       "4  MULTIPOLYGON (((-87.02197 36.01200, -87.02140 ...  "
      ]
     },
     "execution_count": 38,
     "metadata": {},
     "output_type": "execute_result"
    }
   ],
   "source": [
    "zipcodes = gpd.read_file('../data/zipcodes.geojson')\n",
    "print(zipcodes.crs)\n",
    "zipcodes.head( )"
   ]
  },
  {
   "cell_type": "code",
   "execution_count": null,
   "id": "b2742bdf-afc1-449f-93a7-8b0f57fdac22",
   "metadata": {},
   "outputs": [],
   "source": []
  },
  {
   "cell_type": "markdown",
   "id": "14787d10-8196-43b5-8513-f7e336950187",
   "metadata": {},
   "source": [
    "---\n",
    "\n",
    "Import Turo data"
   ]
  },
  {
   "cell_type": "code",
   "execution_count": 47,
   "id": "f528f503-64d1-43b2-b678-50629358e914",
   "metadata": {},
   "outputs": [
    {
     "data": {
      "text/html": [
       "<div>\n",
       "<style scoped>\n",
       "    .dataframe tbody tr th:only-of-type {\n",
       "        vertical-align: middle;\n",
       "    }\n",
       "\n",
       "    .dataframe tbody tr th {\n",
       "        vertical-align: top;\n",
       "    }\n",
       "\n",
       "    .dataframe thead th {\n",
       "        text-align: right;\n",
       "    }\n",
       "</style>\n",
       "<table border=\"1\" class=\"dataframe\">\n",
       "  <thead>\n",
       "    <tr style=\"text-align: right;\">\n",
       "      <th></th>\n",
       "      <th>id</th>\n",
       "      <th>trips</th>\n",
       "      <th>average_rating</th>\n",
       "      <th>average_price</th>\n",
       "      <th>host_id</th>\n",
       "      <th>all_star_host</th>\n",
       "      <th>favorited_by_searcher</th>\n",
       "      <th>new_listing</th>\n",
       "      <th>make</th>\n",
       "      <th>model</th>\n",
       "      <th>type</th>\n",
       "      <th>year</th>\n",
       "      <th>city</th>\n",
       "      <th>lat</th>\n",
       "      <th>lng</th>\n",
       "    </tr>\n",
       "  </thead>\n",
       "  <tbody>\n",
       "    <tr>\n",
       "      <th>0</th>\n",
       "      <td>301046</td>\n",
       "      <td>236</td>\n",
       "      <td>4.9116</td>\n",
       "      <td>43.585000</td>\n",
       "      <td>1311189</td>\n",
       "      <td>False</td>\n",
       "      <td>False</td>\n",
       "      <td>False</td>\n",
       "      <td>Toyota</td>\n",
       "      <td>Camry</td>\n",
       "      <td>CAR</td>\n",
       "      <td>2012</td>\n",
       "      <td>Nashville</td>\n",
       "      <td>36.089184</td>\n",
       "      <td>-86.920420</td>\n",
       "    </tr>\n",
       "    <tr>\n",
       "      <th>1</th>\n",
       "      <td>370101</td>\n",
       "      <td>6</td>\n",
       "      <td>5.0000</td>\n",
       "      <td>515.375000</td>\n",
       "      <td>5082554</td>\n",
       "      <td>False</td>\n",
       "      <td>False</td>\n",
       "      <td>False</td>\n",
       "      <td>Porsche</td>\n",
       "      <td>911</td>\n",
       "      <td>CAR</td>\n",
       "      <td>2014</td>\n",
       "      <td>Nashville</td>\n",
       "      <td>36.095788</td>\n",
       "      <td>-86.681452</td>\n",
       "    </tr>\n",
       "    <tr>\n",
       "      <th>2</th>\n",
       "      <td>386843</td>\n",
       "      <td>221</td>\n",
       "      <td>5.0000</td>\n",
       "      <td>91.000000</td>\n",
       "      <td>3293037</td>\n",
       "      <td>True</td>\n",
       "      <td>False</td>\n",
       "      <td>False</td>\n",
       "      <td>Jeep</td>\n",
       "      <td>Wrangler JK Unlimited</td>\n",
       "      <td>SUV</td>\n",
       "      <td>2018</td>\n",
       "      <td>Brentwood</td>\n",
       "      <td>36.024075</td>\n",
       "      <td>-86.748148</td>\n",
       "    </tr>\n",
       "    <tr>\n",
       "      <th>3</th>\n",
       "      <td>429041</td>\n",
       "      <td>102</td>\n",
       "      <td>5.0000</td>\n",
       "      <td>200.166667</td>\n",
       "      <td>4112200</td>\n",
       "      <td>True</td>\n",
       "      <td>False</td>\n",
       "      <td>False</td>\n",
       "      <td>Jaguar</td>\n",
       "      <td>F-TYPE</td>\n",
       "      <td>CAR</td>\n",
       "      <td>2018</td>\n",
       "      <td>Brentwood</td>\n",
       "      <td>36.042198</td>\n",
       "      <td>-86.767288</td>\n",
       "    </tr>\n",
       "    <tr>\n",
       "      <th>4</th>\n",
       "      <td>462620</td>\n",
       "      <td>53</td>\n",
       "      <td>4.9063</td>\n",
       "      <td>94.344000</td>\n",
       "      <td>5917679</td>\n",
       "      <td>True</td>\n",
       "      <td>False</td>\n",
       "      <td>False</td>\n",
       "      <td>Lexus</td>\n",
       "      <td>IS</td>\n",
       "      <td>CAR</td>\n",
       "      <td>2010</td>\n",
       "      <td>Nashville</td>\n",
       "      <td>36.190869</td>\n",
       "      <td>-86.811879</td>\n",
       "    </tr>\n",
       "  </tbody>\n",
       "</table>\n",
       "</div>"
      ],
      "text/plain": [
       "       id  trips  average_rating  average_price  host_id  all_star_host  \\\n",
       "0  301046    236          4.9116      43.585000  1311189          False   \n",
       "1  370101      6          5.0000     515.375000  5082554          False   \n",
       "2  386843    221          5.0000      91.000000  3293037           True   \n",
       "3  429041    102          5.0000     200.166667  4112200           True   \n",
       "4  462620     53          4.9063      94.344000  5917679           True   \n",
       "\n",
       "   favorited_by_searcher  new_listing     make                  model type  \\\n",
       "0                  False        False   Toyota                  Camry  CAR   \n",
       "1                  False        False  Porsche                    911  CAR   \n",
       "2                  False        False     Jeep  Wrangler JK Unlimited  SUV   \n",
       "3                  False        False   Jaguar                 F-TYPE  CAR   \n",
       "4                  False        False    Lexus                     IS  CAR   \n",
       "\n",
       "   year       city        lat        lng  \n",
       "0  2012  Nashville  36.089184 -86.920420  \n",
       "1  2014  Nashville  36.095788 -86.681452  \n",
       "2  2018  Brentwood  36.024075 -86.748148  \n",
       "3  2018  Brentwood  36.042198 -86.767288  \n",
       "4  2010  Nashville  36.190869 -86.811879  "
      ]
     },
     "execution_count": 47,
     "metadata": {},
     "output_type": "execute_result"
    }
   ],
   "source": [
    "turo = pd.read_excel(r'D:\\Data Scraping\\Turo\\Nashville\\Octorber\\Clean Data\\clean_data.xlsx')\n",
    "\n",
    "turo.head()"
   ]
  },
  {
   "cell_type": "code",
   "execution_count": null,
   "id": "9b239be6-0c21-43d1-a42e-e51df3184027",
   "metadata": {},
   "outputs": [],
   "source": []
  },
  {
   "cell_type": "code",
   "execution_count": 49,
   "id": "a2f5b6f1-4650-4b5b-b2b7-47b665fb0e42",
   "metadata": {},
   "outputs": [],
   "source": [
    "#create a geo data frame\n",
    "turo_geo = gpd.GeoDataFrame(turo, \n",
    "                            crs = zipcodes.crs,\n",
    "                            geometry = gpd.points_from_xy(turo.lng, turo.lat))\n",
    "#view the type\n",
    "type(turo_geo)"
   ]
  },
  {
   "cell_type": "markdown",
   "id": "2998a70b-3868-42ff-aac0-0c10e8ba3eb0",
   "metadata": {},
   "source": [
    "---\n",
    "\n",
    "Combine bus stops and zipcodes with a spatial join"
   ]
  },
  {
   "cell_type": "code",
   "execution_count": 55,
   "id": "6b6c3033-0bdd-457a-80be-64cd9fbeafc6",
   "metadata": {},
   "outputs": [
    {
     "data": {
      "text/html": [
       "<div>\n",
       "<style scoped>\n",
       "    .dataframe tbody tr th:only-of-type {\n",
       "        vertical-align: middle;\n",
       "    }\n",
       "\n",
       "    .dataframe tbody tr th {\n",
       "        vertical-align: top;\n",
       "    }\n",
       "\n",
       "    .dataframe thead th {\n",
       "        text-align: right;\n",
       "    }\n",
       "</style>\n",
       "<table border=\"1\" class=\"dataframe\">\n",
       "  <thead>\n",
       "    <tr style=\"text-align: right;\">\n",
       "      <th></th>\n",
       "      <th>id</th>\n",
       "      <th>trips</th>\n",
       "      <th>average_rating</th>\n",
       "      <th>average_price</th>\n",
       "      <th>host_id</th>\n",
       "      <th>all_star_host</th>\n",
       "      <th>favorited_by_searcher</th>\n",
       "      <th>new_listing</th>\n",
       "      <th>make</th>\n",
       "      <th>model</th>\n",
       "      <th>type</th>\n",
       "      <th>year</th>\n",
       "      <th>city</th>\n",
       "      <th>lat</th>\n",
       "      <th>lng</th>\n",
       "      <th>geometry</th>\n",
       "      <th>index_right</th>\n",
       "      <th>zip</th>\n",
       "      <th>po_name</th>\n",
       "    </tr>\n",
       "  </thead>\n",
       "  <tbody>\n",
       "    <tr>\n",
       "      <th>0</th>\n",
       "      <td>301046</td>\n",
       "      <td>236</td>\n",
       "      <td>4.9116</td>\n",
       "      <td>43.585000</td>\n",
       "      <td>1311189</td>\n",
       "      <td>False</td>\n",
       "      <td>False</td>\n",
       "      <td>False</td>\n",
       "      <td>Toyota</td>\n",
       "      <td>Camry</td>\n",
       "      <td>CAR</td>\n",
       "      <td>2012</td>\n",
       "      <td>Nashville</td>\n",
       "      <td>36.089184</td>\n",
       "      <td>-86.920420</td>\n",
       "      <td>POINT (-86.92042 36.08918)</td>\n",
       "      <td>7</td>\n",
       "      <td>37221</td>\n",
       "      <td>NASHVILLE</td>\n",
       "    </tr>\n",
       "    <tr>\n",
       "      <th>619</th>\n",
       "      <td>2006943</td>\n",
       "      <td>14</td>\n",
       "      <td>5.0000</td>\n",
       "      <td>42.397778</td>\n",
       "      <td>21327042</td>\n",
       "      <td>False</td>\n",
       "      <td>False</td>\n",
       "      <td>False</td>\n",
       "      <td>INFINITI</td>\n",
       "      <td>QX60</td>\n",
       "      <td>SUV</td>\n",
       "      <td>2015</td>\n",
       "      <td>Nashville</td>\n",
       "      <td>36.072703</td>\n",
       "      <td>-86.956972</td>\n",
       "      <td>POINT (-86.95697 36.07270)</td>\n",
       "      <td>7</td>\n",
       "      <td>37221</td>\n",
       "      <td>NASHVILLE</td>\n",
       "    </tr>\n",
       "    <tr>\n",
       "      <th>788</th>\n",
       "      <td>2138403</td>\n",
       "      <td>7</td>\n",
       "      <td>5.0000</td>\n",
       "      <td>40.078889</td>\n",
       "      <td>2102980</td>\n",
       "      <td>False</td>\n",
       "      <td>False</td>\n",
       "      <td>False</td>\n",
       "      <td>Toyota</td>\n",
       "      <td>Prius</td>\n",
       "      <td>CAR</td>\n",
       "      <td>2013</td>\n",
       "      <td>Nashville</td>\n",
       "      <td>36.062538</td>\n",
       "      <td>-86.913928</td>\n",
       "      <td>POINT (-86.91393 36.06254)</td>\n",
       "      <td>7</td>\n",
       "      <td>37221</td>\n",
       "      <td>NASHVILLE</td>\n",
       "    </tr>\n",
       "    <tr>\n",
       "      <th>923</th>\n",
       "      <td>2213114</td>\n",
       "      <td>0</td>\n",
       "      <td>NaN</td>\n",
       "      <td>46.017273</td>\n",
       "      <td>36122537</td>\n",
       "      <td>False</td>\n",
       "      <td>False</td>\n",
       "      <td>True</td>\n",
       "      <td>Dodge</td>\n",
       "      <td>Charger</td>\n",
       "      <td>CAR</td>\n",
       "      <td>2016</td>\n",
       "      <td>Nashville</td>\n",
       "      <td>36.082877</td>\n",
       "      <td>-86.918152</td>\n",
       "      <td>POINT (-86.91815 36.08288)</td>\n",
       "      <td>7</td>\n",
       "      <td>37221</td>\n",
       "      <td>NASHVILLE</td>\n",
       "    </tr>\n",
       "    <tr>\n",
       "      <th>1</th>\n",
       "      <td>370101</td>\n",
       "      <td>6</td>\n",
       "      <td>5.0000</td>\n",
       "      <td>515.375000</td>\n",
       "      <td>5082554</td>\n",
       "      <td>False</td>\n",
       "      <td>False</td>\n",
       "      <td>False</td>\n",
       "      <td>Porsche</td>\n",
       "      <td>911</td>\n",
       "      <td>CAR</td>\n",
       "      <td>2014</td>\n",
       "      <td>Nashville</td>\n",
       "      <td>36.095788</td>\n",
       "      <td>-86.681452</td>\n",
       "      <td>POINT (-86.68145 36.09579)</td>\n",
       "      <td>17</td>\n",
       "      <td>37217</td>\n",
       "      <td>NASHVILLE</td>\n",
       "    </tr>\n",
       "  </tbody>\n",
       "</table>\n",
       "</div>"
      ],
      "text/plain": [
       "          id  trips  average_rating  average_price   host_id  all_star_host  \\\n",
       "0     301046    236          4.9116      43.585000   1311189          False   \n",
       "619  2006943     14          5.0000      42.397778  21327042          False   \n",
       "788  2138403      7          5.0000      40.078889   2102980          False   \n",
       "923  2213114      0             NaN      46.017273  36122537          False   \n",
       "1     370101      6          5.0000     515.375000   5082554          False   \n",
       "\n",
       "     favorited_by_searcher  new_listing      make    model type  year  \\\n",
       "0                    False        False    Toyota    Camry  CAR  2012   \n",
       "619                  False        False  INFINITI     QX60  SUV  2015   \n",
       "788                  False        False    Toyota    Prius  CAR  2013   \n",
       "923                  False         True     Dodge  Charger  CAR  2016   \n",
       "1                    False        False   Porsche      911  CAR  2014   \n",
       "\n",
       "          city        lat        lng                    geometry  index_right  \\\n",
       "0    Nashville  36.089184 -86.920420  POINT (-86.92042 36.08918)            7   \n",
       "619  Nashville  36.072703 -86.956972  POINT (-86.95697 36.07270)            7   \n",
       "788  Nashville  36.062538 -86.913928  POINT (-86.91393 36.06254)            7   \n",
       "923  Nashville  36.082877 -86.918152  POINT (-86.91815 36.08288)            7   \n",
       "1    Nashville  36.095788 -86.681452  POINT (-86.68145 36.09579)           17   \n",
       "\n",
       "       zip    po_name  \n",
       "0    37221  NASHVILLE  \n",
       "619  37221  NASHVILLE  \n",
       "788  37221  NASHVILLE  \n",
       "923  37221  NASHVILLE  \n",
       "1    37217  NASHVILLE  "
      ]
     },
     "execution_count": 55,
     "metadata": {},
     "output_type": "execute_result"
    }
   ],
   "source": [
    "#subset the zipcodes df\n",
    "zipcodes = zipcodes[['zip', 'po_name', 'geometry']]\n",
    "\n",
    "#perform a spacial join\n",
    "cars_by_zip = gpd.sjoin(turo_geo, zipcodes, predicate = 'within')\n",
    "\n",
    "#view the head\n",
    "cars_by_zip.head()"
   ]
  },
  {
   "cell_type": "code",
   "execution_count": 56,
   "id": "09d33e79-4510-4488-9093-d90df6d94b8a",
   "metadata": {},
   "outputs": [
    {
     "data": {
      "text/plain": [
       "zip\n",
       "37214    153\n",
       "37211     82\n",
       "37013     80\n",
       "37203     67\n",
       "37217     59\n",
       "37115     54\n",
       "37210     44\n",
       "37076     36\n",
       "37209     31\n",
       "37027     21\n",
       "37206     20\n",
       "37207     18\n",
       "37208     15\n",
       "37215     12\n",
       "37204     10\n",
       "37216     10\n",
       "37212      8\n",
       "37138      5\n",
       "37218      4\n",
       "37221      4\n",
       "37205      4\n",
       "37072      3\n",
       "37189      3\n",
       "37228      2\n",
       "37220      1\n",
       "37201      1\n",
       "37219      1\n",
       "Name: count, dtype: int64"
      ]
     },
     "execution_count": 56,
     "metadata": {},
     "output_type": "execute_result"
    }
   ],
   "source": [
    "cars_by_zip['zip'].value_counts()"
   ]
  },
  {
   "cell_type": "markdown",
   "id": "587640a1-34d2-49c3-9dad-c91db956d9a5",
   "metadata": {},
   "source": [
    "---\n",
    "\n",
    "Lets take a look at my zipcode 37210"
   ]
  },
  {
   "cell_type": "code",
   "execution_count": 61,
   "id": "a2db1255-4ea6-45b8-9b59-d06536126391",
   "metadata": {},
   "outputs": [
    {
     "data": {
      "text/plain": [
       "(44, 19)"
      ]
     },
     "execution_count": 61,
     "metadata": {},
     "output_type": "execute_result"
    }
   ],
   "source": [
    "cars_in_37210 = cars_by_zip.loc[cars_by_zip['zip'] == '37210']\n",
    "cars_in_37210.shape"
   ]
  },
  {
   "cell_type": "code",
   "execution_count": null,
   "id": "3567a917-4d90-495e-bc35-7fc169233c11",
   "metadata": {},
   "outputs": [],
   "source": []
  },
  {
   "cell_type": "code",
   "execution_count": 62,
   "id": "b184c7c7-6564-4612-99ac-c10842560c9a",
   "metadata": {},
   "outputs": [
    {
     "data": {
      "text/plain": [
       "(1, 3)"
      ]
     },
     "execution_count": 62,
     "metadata": {},
     "output_type": "execute_result"
    }
   ],
   "source": [
    "polygon37210 = zipcodes.loc[zipcodes['zip'] == '37210']\n",
    "polygon37210.shape"
   ]
  },
  {
   "cell_type": "code",
   "execution_count": 63,
   "id": "706a5cf6-1f4d-482f-952b-c220232a4df6",
   "metadata": {},
   "outputs": [
    {
     "data": {
      "image/png": "[encoded data removed]",
      "text/plain": [
       "<Figure size 800x1000 with 1 Axes>"
      ]
     },
     "metadata": {},
     "output_type": "display_data"
    }
   ],
   "source": [
    "#fig, ax = matplotlib.subplots()\n",
    "ax = polygon37210.plot(figsize = (8, 10), color = 'lightgreen')\n",
    "cars_in_37210.plot(ax = ax, column = 'type');\n",
    "plt.show();"
   ]
  },
  {
   "cell_type": "code",
   "execution_count": null,
   "id": "f09c1b84-32e3-40c2-acd6-a474ae6a4cf2",
   "metadata": {},
   "outputs": [],
   "source": []
  },
  {
   "cell_type": "code",
   "execution_count": null,
   "id": "9acdb88d-fa6b-4d12-a8db-6ab99d656693",
   "metadata": {},
   "outputs": [],
   "source": []
  },
  {
   "cell_type": "code",
   "execution_count": null,
   "id": "a442f766-e75e-4951-be6d-e0fdbe9b500e",
   "metadata": {},
   "outputs": [],
   "source": []
  },
  {
   "cell_type": "code",
   "execution_count": null,
   "id": "86653f95-48f6-47ec-8a04-f3240897684a",
   "metadata": {},
   "outputs": [],
   "source": []
  },
  {
   "cell_type": "code",
   "execution_count": null,
   "id": "98b004bd-ca76-4084-b426-1358781ad4bb",
   "metadata": {},
   "outputs": [],
   "source": []
  },
  {
   "cell_type": "code",
   "execution_count": null,
   "id": "980960cc-dd87-462e-b6ae-75ea1ada722b",
   "metadata": {},
   "outputs": [],
   "source": []
  },
  {
   "cell_type": "code",
   "execution_count": null,
   "id": "56c06aec-2b24-49e3-bfdb-353c88b7e9dc",
   "metadata": {},
   "outputs": [],
   "source": []
  },
  {
   "cell_type": "code",
   "execution_count": null,
   "id": "c8383766-0103-4810-9fd2-b67623d7d299",
   "metadata": {},
   "outputs": [],
   "source": []
  },
  {
   "cell_type": "code",
   "execution_count": null,
   "id": "eabc5878-b374-46ca-b71d-9f6bb4501b1a",
   "metadata": {},
   "outputs": [],
   "source": []
  },
  {
   "cell_type": "code",
   "execution_count": null,
   "id": "e207d658-1637-4c06-a12e-4e8b5e326128",
   "metadata": {},
   "outputs": [],
   "source": []
  },
  {
   "cell_type": "code",
   "execution_count": null,
   "id": "ba2a3fb1-2310-4417-9d49-dbed83582639",
   "metadata": {},
   "outputs": [],
   "source": []
  },
  {
   "cell_type": "code",
   "execution_count": null,
   "id": "0714e9e6-8479-44e8-9aec-78e59497d42b",
   "metadata": {},
   "outputs": [],
   "source": []
  },
  {
   "cell_type": "code",
   "execution_count": null,
   "id": "b1435ad4-807e-4109-9e84-973eace5e97a",
   "metadata": {},
   "outputs": [],
   "source": []
  },
  {
   "cell_type": "code",
   "execution_count": null,
   "id": "3cb965f3-c353-4800-a29d-657b1eb2ee72",
   "metadata": {},
   "outputs": [],
   "source": []
  },
  {
   "cell_type": "code",
   "execution_count": null,
   "id": "9d95e60f-326f-498b-8d6d-39c116a75189",
   "metadata": {},
   "outputs": [],
   "source": []
  },
  {
   "cell_type": "code",
   "execution_count": null,
   "id": "ca26e5ee-d8a2-4a0e-a7a8-32d0d9baff95",
   "metadata": {},
   "outputs": [],
   "source": []
  },
  {
   "cell_type": "code",
   "execution_count": null,
   "id": "d25ee41e-127f-4a2e-86bb-46776596c393",
   "metadata": {},
   "outputs": [],
   "source": []
  },
  {
   "cell_type": "code",
   "execution_count": null,
   "id": "6b44c4c1-28ab-4a84-af3d-7682f090c289",
   "metadata": {},
   "outputs": [],
   "source": []
  },
  {
   "cell_type": "code",
   "execution_count": null,
   "id": "61c4e9fb-dbcf-4a21-8a00-ef841dcc3a2e",
   "metadata": {},
   "outputs": [],
   "source": []
  },
  {
   "cell_type": "code",
   "execution_count": null,
   "id": "185f501a-e843-4fe6-b9ee-b807c46b20b8",
   "metadata": {},
   "outputs": [],
   "source": []
  },
  {
   "cell_type": "code",
   "execution_count": null,
   "id": "e053a6b7-8fc5-408d-a0a1-8157235c98db",
   "metadata": {},
   "outputs": [],
   "source": []
  },
  {
   "cell_type": "code",
   "execution_count": null,
   "id": "b6894d9c-6bf5-454f-9355-ee215f5bab9a",
   "metadata": {},
   "outputs": [],
   "source": []
  },
  {
   "cell_type": "code",
   "execution_count": null,
   "id": "5d2d705b-322a-4e8a-84f9-5935b870b2e7",
   "metadata": {},
   "outputs": [],
   "source": []
  },
  {
   "cell_type": "code",
   "execution_count": null,
   "id": "475f4e52-bf41-4faa-9e90-f429716567c3",
   "metadata": {},
   "outputs": [],
   "source": []
  },
  {
   "cell_type": "code",
   "execution_count": null,
   "id": "58e925d8-3390-4676-909e-91b065e73693",
   "metadata": {},
   "outputs": [],
   "source": []
  },
  {
   "cell_type": "code",
   "execution_count": null,
   "id": "8a854167-1063-4ea4-897f-b4298b322c50",
   "metadata": {},
   "outputs": [],
   "source": []
  },
  {
   "cell_type": "code",
   "execution_count": null,
   "id": "b9e3cb5e-6456-4a66-858a-0778dbc2198d",
   "metadata": {},
   "outputs": [],
   "source": []
  },
  {
   "cell_type": "code",
   "execution_count": null,
   "id": "fb274d17-dec9-4ac2-ba6d-8529d6974981",
   "metadata": {},
   "outputs": [],
   "source": []
  },
  {
   "cell_type": "code",
   "execution_count": null,
   "id": "b6b52841-7438-4407-9944-f3c0692d5cd3",
   "metadata": {},
   "outputs": [],
   "source": []
  },
  {
   "cell_type": "code",
   "execution_count": null,
   "id": "f54ff7d0-9e76-4eeb-a439-bd691495f648",
   "metadata": {},
   "outputs": [],
   "source": []
  },
  {
   "cell_type": "code",
   "execution_count": null,
   "id": "02b97897-3b97-4b07-bbd1-ca32b65c9c72",
   "metadata": {},
   "outputs": [],
   "source": []
  },
  {
   "cell_type": "code",
   "execution_count": null,
   "id": "a1e0862d-9118-4183-a9e8-b9bb6a9bd6e4",
   "metadata": {},
   "outputs": [],
   "source": []
  },
  {
   "cell_type": "code",
   "execution_count": null,
   "id": "6f407cd7-f4f6-45e9-bb1d-3d511bd2e61d",
   "metadata": {},
   "outputs": [],
   "source": []
  },
  {
   "cell_type": "code",
   "execution_count": null,
   "id": "b13fead0-b28f-45b0-83a3-33e5b6b76d75",
   "metadata": {},
   "outputs": [],
   "source": []
  },
  {
   "cell_type": "code",
   "execution_count": null,
   "id": "681cf3c9-34aa-4ac1-b5bd-6f1b50c1fe95",
   "metadata": {},
   "outputs": [],
   "source": []
  },
  {
   "cell_type": "code",
   "execution_count": null,
   "id": "d14ca0e1-ebe5-42a7-b0c9-2d8b01645c6c",
   "metadata": {},
   "outputs": [],
   "source": []
  },
  {
   "cell_type": "code",
   "execution_count": null,
   "id": "8702d5f2-3773-4da0-aeda-52f297d751e0",
   "metadata": {},
   "outputs": [],
   "source": []
  },
  {
   "cell_type": "code",
   "execution_count": null,
   "id": "d50119a9-b44b-4766-a94b-65752a8ff3b4",
   "metadata": {},
   "outputs": [],
   "source": []
  },
  {
   "cell_type": "code",
   "execution_count": null,
   "id": "8174338f-1a75-4cb3-bdc5-40929dc67838",
   "metadata": {},
   "outputs": [],
   "source": []
  },
  {
   "cell_type": "code",
   "execution_count": null,
   "id": "da6431a9-571d-4106-8dd0-5c3c537be6bb",
   "metadata": {},
   "outputs": [],
   "source": []
  },
  {
   "cell_type": "code",
   "execution_count": null,
   "id": "0b2eb5e4-b722-4851-b137-092eedf09606",
   "metadata": {},
   "outputs": [],
   "source": []
  }
 ],
 "metadata": {
  "kernelspec": {
   "display_name": "Python 3 (ipykernel)",
   "language": "python",
   "name": "python3"
  },
  "language_info": {
   "codemirror_mode": {
    "name": "ipython",
    "version": 3
   },
   "file_extension": ".py",
   "mimetype": "text/x-python",
   "name": "python",
   "nbconvert_exporter": "python",
   "pygments_lexer": "ipython3",
   "version": "3.10.13"
  }
 },
 "nbformat": 4,
 "nbformat_minor": 5
}
